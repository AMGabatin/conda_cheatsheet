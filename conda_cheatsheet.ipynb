{
 "cells": [
  {
   "cell_type": "markdown",
   "id": "db3cb401-5aff-447a-a4d8-d58d5168e72e",
   "metadata": {},
   "source": [
    "# Conda Cheat Sheet"
   ]
  },
  {
   "cell_type": "markdown",
   "id": "c0f59be4-04d6-4547-bac7-5fd69c03e4fa",
   "metadata": {},
   "source": [
    "This cheat sheet provides a quick reference guide for common Conda commands to help you manage environments and packages effectively."
   ]
  },
  {
   "cell_type": "markdown",
   "id": "eadce24d-6ab8-487c-9cc7-444f7776d601",
   "metadata": {},
   "source": [
    "## Conda Basics"
   ]
  },
  {
   "cell_type": "code",
   "execution_count": null,
   "id": "310225dd-8fcd-4994-8bf3-f8c2af125fce",
   "metadata": {},
   "outputs": [],
   "source": [
    "# Display the version of Conda installed on your system\n",
    "conda --version"
   ]
  },
  {
   "cell_type": "code",
   "execution_count": null,
   "id": "970e3ee3-90f1-40a3-9638-644be21188fd",
   "metadata": {},
   "outputs": [],
   "source": [
    "# Display Conda system info (including version numbers of Conda and its dependencies, paths, configuration settings and more)\n",
    "conda info"
   ]
  },
  {
   "cell_type": "code",
   "execution_count": null,
   "id": "c3ed91a0-6eae-4086-8344-703eaef67be1",
   "metadata": {},
   "outputs": [],
   "source": [
    "# Display general help information for Conda (including a list of available commands and their usage)\n",
    "# Syntax: {package} --help\n",
    "conda --help"
   ]
  },
  {
   "cell_type": "code",
   "execution_count": null,
   "id": "f80cabb8-d474-4f48-98db-3911802efd6d",
   "metadata": {},
   "outputs": [],
   "source": [
    "# Get help on Conda command usage\n",
    "# Syntax: {package} {command} --help\n",
    "conda install --help"
   ]
  },
  {
   "cell_type": "code",
   "execution_count": null,
   "id": "ea83e860-4fbc-4d4d-80bf-586240fbaa63",
   "metadata": {},
   "outputs": [],
   "source": [
    "# Update Conda to the latest version\n",
    "conda update conda"
   ]
  },
  {
   "cell_type": "code",
   "execution_count": null,
   "id": "11fc1720-65ad-4663-aa41-c301a476a222",
   "metadata": {},
   "outputs": [],
   "source": [
    "# Update Conda and all installed packages to the latest version\n",
    "conda update --all"
   ]
  },
  {
   "cell_type": "code",
   "execution_count": null,
   "id": "b647fe3a-b861-4b63-bc77-a90fced23082",
   "metadata": {},
   "outputs": [],
   "source": [
    "# List all Conda environments\n",
    "conda env list"
   ]
  },
  {
   "cell_type": "markdown",
   "id": "7316ddb0-c390-4862-88fd-4e6932212284",
   "metadata": {},
   "source": [
    "## Listing and Finding Packages"
   ]
  },
  {
   "cell_type": "code",
   "execution_count": null,
   "id": "b0e42e91-14a5-49e2-9605-8b3eee33db71",
   "metadata": {},
   "outputs": [],
   "source": [
    "# List all packages in the current environment\n",
    "conda list"
   ]
  },
  {
   "cell_type": "code",
   "execution_count": null,
   "id": "2f241ac6-b796-4287-9741-a2540d0e50f2",
   "metadata": {},
   "outputs": [],
   "source": [
    "# List all packages that begin with the letters \"py\", using regex\n",
    "# Syntax: conda list ^{letters}\n",
    "conda list ^py"
   ]
  },
  {
   "cell_type": "code",
   "execution_count": null,
   "id": "ffff3cd2-b711-4b87-8b48-7b01dd0d91ac",
   "metadata": {},
   "outputs": [],
   "source": [
    "# List the history of each change to the current environment\n",
    "conda list --revisions"
   ]
  },
  {
   "cell_type": "code",
   "execution_count": null,
   "id": "61ee2677-5e64-405d-b15d-d3a3ed8d98da",
   "metadata": {},
   "outputs": [],
   "source": [
    "# Restore environment to a previous revision\n",
    "conda install --revision 2"
   ]
  },
  {
   "cell_type": "code",
   "execution_count": null,
   "id": "14a33af2-8863-4047-85b5-f8f30bc895bb",
   "metadata": {},
   "outputs": [],
   "source": [
    "# List all versions of all packages in all conda channels\n",
    "conda search"
   ]
  },
  {
   "cell_type": "code",
   "execution_count": null,
   "id": "56cf7529-968b-4b47-869c-8ad8e8e98465",
   "metadata": {},
   "outputs": [],
   "source": [
    "# List all versions of a package in all channels\n",
    "# Syntax: conda search {package}\n",
    "conda search python"
   ]
  },
  {
   "cell_type": "code",
   "execution_count": null,
   "id": "6e859f22-e981-4175-a9fc-dd627580a030",
   "metadata": {},
   "outputs": [],
   "source": [
    "# List package versions in a specific conda channel\n",
    "# Syntax: conda search {channel}::{package}\n",
    "conda search conda-forge::python"
   ]
  },
  {
   "cell_type": "code",
   "execution_count": null,
   "id": "e2d16c71-b9d1-4228-bbcf-fa9cb3548ec2",
   "metadata": {},
   "outputs": [],
   "source": [
    "# List specific versions for a package in all channels\n",
    "# Syntax: conda search {package}={version}\n",
    "conda search python=3.12"
   ]
  },
  {
   "cell_type": "code",
   "execution_count": null,
   "id": "9470b37e-5f56-4cb0-8b52-421e3e55a2aa",
   "metadata": {},
   "outputs": [],
   "source": [
    "# See list of all packages in Anaconda through this link\n",
    "https://docs.anaconda.com/anaconda/packages/pkg-docs"
   ]
  },
  {
   "cell_type": "markdown",
   "id": "521fc128-8adb-4dd5-9f6e-60162355b347",
   "metadata": {},
   "source": [
    "## Specifying Version Numbers"
   ]
  },
  {
   "cell_type": "code",
   "execution_count": null,
   "id": "068ca9c4-8832-4564-9186-363171f3b75f",
   "metadata": {},
   "outputs": [],
   "source": [
    "# Fuzzy Version\n",
    "numpy=1.11\n",
    "# Result: 1.11.0, 1.11.1, 1.11.2, 1.11.18 etc"
   ]
  },
  {
   "cell_type": "code",
   "execution_count": null,
   "id": "14728308-ea31-45e2-9034-1433b29ac166",
   "metadata": {},
   "outputs": [],
   "source": [
    "# Exact Version\n",
    "numpy==1.11\n",
    "# Result: 1.11.0"
   ]
  },
  {
   "cell_type": "code",
   "execution_count": null,
   "id": "0cfc23cc-d9d4-4887-9bee-3c0151add264",
   "metadata": {},
   "outputs": [],
   "source": [
    "# Greater than or equal to\n",
    "\"numpy>=1.11\"\n",
    "# Result: 1.11.0 or higher"
   ]
  },
  {
   "cell_type": "code",
   "execution_count": null,
   "id": "c6ddc31f-4b55-473a-ad61-69304f77fbfc",
   "metadata": {},
   "outputs": [],
   "source": [
    "# OR\n",
    "\"numpy=1.11.1|1.11.3\" \n",
    "# Result: 1.11.1, 1.11.3"
   ]
  },
  {
   "cell_type": "code",
   "execution_count": null,
   "id": "956542f4-1e06-4ab8-8b10-286385a9d773",
   "metadata": {},
   "outputs": [],
   "source": [
    "# AND\n",
    "\"numpy>=1.8,<2\"\n",
    "# Result: 1.8, 1.9, not 2.0"
   ]
  },
  {
   "cell_type": "code",
   "execution_count": null,
   "id": "5c3b26ff-6ab5-4469-b19a-6393f5c4db6e",
   "metadata": {},
   "outputs": [],
   "source": [
    "# NOTE: Quotation marks must be used when your specification contains a space or any of these characters: > < | *"
   ]
  },
  {
   "cell_type": "markdown",
   "id": "726b663e-93f2-4257-a241-f08a18a98b77",
   "metadata": {},
   "source": [
    "## Installing and Managing Packages"
   ]
  },
  {
   "cell_type": "code",
   "execution_count": null,
   "id": "c86446ee-e2b0-4b49-a323-9069b7d2fdb6",
   "metadata": {},
   "outputs": [],
   "source": [
    "# Install packages\n",
    "# Syntax: conda install {package} {package}\n",
    "conda install python\n",
    "conda install numpy pandas"
   ]
  },
  {
   "cell_type": "code",
   "execution_count": null,
   "id": "77cc2ef9-7538-4c4c-8340-c44b1a1cc925",
   "metadata": {},
   "outputs": [],
   "source": [
    "# Install specific version of package\n",
    "# Syntax: conda install {package}={version}\n",
    "conda install numpy=1.26"
   ]
  },
  {
   "cell_type": "code",
   "execution_count": null,
   "id": "122cebbb-b58a-4681-bfee-9597c36d7f1c",
   "metadata": {},
   "outputs": [],
   "source": [
    "# Uninstall packages\n",
    "# Syntax: conda install {package}\n",
    "conda uninstall numpy"
   ]
  },
  {
   "cell_type": "code",
   "execution_count": null,
   "id": "c429082c-01ce-4013-9d28-72bb56f552de",
   "metadata": {},
   "outputs": [],
   "source": [
    "# Run an installed package (Jupyter Lab)\n",
    "jupyter lab"
   ]
  },
  {
   "cell_type": "code",
   "execution_count": null,
   "id": "420bbc62-5131-44ae-84bf-01ad5933f3df",
   "metadata": {},
   "outputs": [],
   "source": [
    "# Update a package\n",
    "conda update numpy"
   ]
  },
  {
   "cell_type": "code",
   "execution_count": null,
   "id": "b5553370-2b0f-46a6-ad0c-f31cc9e3e6af",
   "metadata": {},
   "outputs": [],
   "source": [
    "# Install a package from a specific channel\n",
    "conda install --channel conda-forge numpy"
   ]
  },
  {
   "cell_type": "code",
   "execution_count": null,
   "id": "7dc9d4bf-4437-464a-938a-8c2011aa2511",
   "metadata": {},
   "outputs": [],
   "source": [
    "# Install a package directly from PyPI using pip\n",
    "pip install numpy"
   ]
  },
  {
   "cell_type": "code",
   "execution_count": null,
   "id": "68954ee1-d21f-4f58-a0c7-f9643f62b9fb",
   "metadata": {},
   "outputs": [],
   "source": [
    "# Remove one or more packages\n",
    "conda remove --name my_env numpy pandas"
   ]
  },
  {
   "cell_type": "markdown",
   "id": "a8cdcac8-e2d3-41e5-a660-e89bb1b4a8da",
   "metadata": {},
   "source": [
    "## Managing Environments"
   ]
  },
  {
   "cell_type": "code",
   "execution_count": null,
   "id": "f9419ca4-6128-4086-acc0-ab9e0f82c6b3",
   "metadata": {},
   "outputs": [],
   "source": [
    "# Create an environment\n",
    "# Syntax: conda create --name {env} OR conda create -n {env}\n",
    "conda create --name my_env\n",
    "conda create -n my_env"
   ]
  },
  {
   "cell_type": "code",
   "execution_count": null,
   "id": "60e21668-6034-4cd0-8f84-13dffa7ded8f",
   "metadata": {},
   "outputs": [],
   "source": [
    "# Clone an existing environment\n",
    "# Syntax: conda create --clone {existing_env} --name {new_env}\n",
    "conda create --clone my_existing_env --name my_new_env"
   ]
  },
  {
   "cell_type": "code",
   "execution_count": 6,
   "id": "67daee13-5eb3-4c08-9d60-9c49b1db2cb6",
   "metadata": {},
   "outputs": [],
   "source": [
    "# Create an environment that auto-accept prompts\n",
    "# Syntax: conda create --yes --name {env}\n",
    "conda create --yes --name my_env"
   ]
  },
  {
   "cell_type": "code",
   "execution_count": null,
   "id": "6b58f77a-5dd1-4675-866b-010eb05348c3",
   "metadata": {},
   "outputs": [],
   "source": [
    "# Activate an Environment (from base to specified environment)\n",
    "# Syntax: conda activate {env}\n",
    "\n",
    "# Windows\n",
    "conda activate my_env\n",
    "\n",
    "# macOS, LINUX\n",
    "source activate my_env"
   ]
  },
  {
   "cell_type": "code",
   "execution_count": null,
   "id": "dd2cc111-efff-4875-bac4-7e43f0a5648d",
   "metadata": {},
   "outputs": [],
   "source": [
    "# Deactivate an Environment (go back to base environment)\n",
    "# Syntax: conda deactivate {env}\n",
    "\n",
    "# Windows\n",
    "conda deactivate my_env\n",
    "\n",
    "# macOS, LINUX\n",
    "source deactivate"
   ]
  },
  {
   "cell_type": "code",
   "execution_count": null,
   "id": "504a6c97-23f5-4184-aa38-30347699b899",
   "metadata": {},
   "outputs": [],
   "source": [
    "# Delete an Environment\n",
    "# Syntax: conda env remove --name {env}\n",
    "conda env remove --name my_env"
   ]
  },
  {
   "cell_type": "code",
   "execution_count": null,
   "id": "9afa11b7-ae73-4296-8640-2c11a2c644b4",
   "metadata": {},
   "outputs": [],
   "source": [
    "# Stacked commands: Create an environment and install packages\n",
    "# Syntax: conda create --name {env} {package} {package} {package}\n",
    "conda create --name my_env python numpy pandas"
   ]
  },
  {
   "cell_type": "markdown",
   "id": "710ca934-19c1-4609-b063-6f1e27ed72ca",
   "metadata": {},
   "source": [
    "## Sharing Environments"
   ]
  },
  {
   "cell_type": "code",
   "execution_count": null,
   "id": "54616105-3352-4d85-a1d8-1ad3ddaa16e5",
   "metadata": {},
   "outputs": [],
   "source": [
    "# Import environment from .txt file\n",
    "# Syntax: conda create --name {env} --file {txtfilename}\n",
    "conda create --name my_env --file requirements.txt"
   ]
  },
  {
   "cell_type": "code",
   "execution_count": null,
   "id": "fbd71f40-0401-4068-aa5d-5c011977a8e7",
   "metadata": {},
   "outputs": [],
   "source": [
    "# Export list of packages to .txt file\n",
    "# Syntax: conda list --export > {txtfilename}\n",
    "conda list --export > requirements.txt"
   ]
  },
  {
   "cell_type": "code",
   "execution_count": null,
   "id": "a92fda35-590c-42ae-9ba4-3f141dfad5fc",
   "metadata": {},
   "outputs": [],
   "source": [
    "# Export active environment to a YAML file\n",
    "# Export every package including dependencies (maximum reproducibility)\n",
    "conda env export > environment.yml"
   ]
  },
  {
   "cell_type": "code",
   "execution_count": null,
   "id": "88914a35-ed8f-461b-bbe0-0ba14b4cfbe2",
   "metadata": {},
   "outputs": [],
   "source": [
    "# Export only packages explicitly asked for (increased portability)\n",
    "conda env export --from-history > environment.yml"
   ]
  },
  {
   "cell_type": "code",
   "execution_count": null,
   "id": "35bf06e7-3e83-4775-98f9-4090a09704a1",
   "metadata": {},
   "outputs": [],
   "source": [
    "# Import environment from YAML file\n",
    "conda env create --name my_env2 --file environment.yml"
   ]
  }
 ],
 "metadata": {
  "kernelspec": {
   "display_name": "Python 3 (ipykernel)",
   "language": "python",
   "name": "python3"
  },
  "language_info": {
   "codemirror_mode": {
    "name": "ipython",
    "version": 3
   },
   "file_extension": ".py",
   "mimetype": "text/x-python",
   "name": "python",
   "nbconvert_exporter": "python",
   "pygments_lexer": "ipython3",
   "version": "3.12.2"
  }
 },
 "nbformat": 4,
 "nbformat_minor": 5
}
